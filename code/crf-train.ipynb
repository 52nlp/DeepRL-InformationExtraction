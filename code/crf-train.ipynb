{
 "cells": [
  {
   "cell_type": "code",
   "execution_count": 142,
   "metadata": {
    "collapsed": false
   },
   "outputs": [],
   "source": [
    "import train as train\n",
    "import time\n",
    "import scipy.sparse\n",
    "import pycrfsuite as crf\n",
    "import helper\n",
    "\n",
    "training_file = \"../data/tagged_data/whole_text_full_city2/train.tag\"\n",
    "trained_model = \"trained_model_crf.p\"\n",
    "previous_n = 0\n",
    "next_n = 4\n",
    "c = 10\n",
    "prune = 5\n",
    "\n",
    "helper.load_constants()\n",
    "all_data, all_identifier = train.load_data(training_file)\n",
    "train_split = .6\n",
    "split_index = int(len(all_data)*train_split)\n",
    "## TODO: Ask Karthik If i should randomize this\n",
    "train_data, train_identifier = all_data[:split_index], all_identifier[:split_index]\n",
    "test_data, test_identifier = all_data[split_index:], all_identifier[split_index:]\n",
    "num_words, word_vocab = train.get_word_vocab(train_data, prune)    \n",
    "\n",
    "trainXMatrix, trainYInts = train.get_feature_matrix_n(previous_n,next_n,train_data, num_words, word_vocab, helper.other_features)\n",
    "trainX = trainXMatrix.toarray()\n",
    "trainY = [train.int2tags[ int(y) ] for y in trainYInts]\n",
    "trainModel()"
   ]
  },
  {
   "cell_type": "code",
   "execution_count": null,
   "metadata": {
    "collapsed": false
   },
   "outputs": [],
   "source": [
    "predictedY, testY, confidences, confidences_beam, info = predict()"
   ]
  },
  {
   "cell_type": "code",
   "execution_count": 144,
   "metadata": {
    "collapsed": false
   },
   "outputs": [
    {
     "name": "stdout",
     "output_type": "stream",
     "text": [
      "TRAIN gold\n",
      "Tag is  TAG  WITH NUM : 87829\n",
      "Tag is  shooterName  WITH NUM : 425\n",
      "Tag is  killedNum  WITH NUM : 173\n",
      "Tag is  woundedNum  WITH NUM : 313\n",
      "Tag is  city  WITH NUM : 1002\n",
      "TEST PREDICTED\n",
      "Tag is  TAG  WITH NUM : 89742\n",
      "Tag is  shooterName  WITH NUM : 0\n",
      "Tag is  killedNum  WITH NUM : 0\n",
      "Tag is  woundedNum  WITH NUM : 0\n",
      "Tag is  city  WITH NUM : 0\n",
      "TEST gold\n",
      "Tag is  TAG  WITH NUM : 88507\n",
      "Tag is  shooterName  WITH NUM : 291\n",
      "Tag is  killedNum  WITH NUM : 126\n",
      "Tag is  woundedNum  WITH NUM : 215\n",
      "Tag is  city  WITH NUM : 603\n"
     ]
    }
   ],
   "source": [
    "print \"TRAIN gold\"\n",
    "for tag in train.int2tags:\n",
    "    numTag = sum([p==tag for p in trainY])\n",
    "    print \"Tag is \", tag, \" WITH NUM :\", numTag\n",
    "    \n",
    "print \"TEST PREDICTED\"\n",
    "for tag in train.int2tags:\n",
    "    numTag = sum([p==tag for p in predictedY])\n",
    "    print \"Tag is \", tag, \" WITH NUM :\", numTag\n",
    "\n",
    "print \"TEST gold\"\n",
    "for tag in train.int2tags:\n",
    "    numTag = sum([p==tag for p in testY])\n",
    "    print \"Tag is \", tag, \" WITH NUM :\", numTag"
   ]
  },
  {
   "cell_type": "code",
   "execution_count": 149,
   "metadata": {
    "collapsed": false
   },
   "outputs": [
    {
     "name": "stdout",
     "output_type": "stream",
     "text": [
      "{(u'TAG', u'woundedNum'): 1.545113, (u'TAG', u'TAG'): 4.423181, (u'city', u'killedNum'): -0.286106, (u'killedNum', u'TAG'): 1.614451, (u'woundedNum', u'killedNum'): -0.625218, (u'city', u'TAG'): 1.793026, (u'woundedNum', u'city'): -0.757178, (u'TAG', u'shooterName'): 1.481619, (u'city', u'woundedNum'): -0.112658, (u'shooterName', u'shooterName'): 2.983068, (u'shooterName', u'TAG'): 1.454725, (u'TAG', u'killedNum'): 0.926706, (u'TAG', u'city'): 2.18186, (u'city', u'city'): 2.71771, (u'woundedNum', u'TAG'): 1.624096}\n"
     ]
    }
   ],
   "source": [
    "print info.transitions\n"
   ]
  },
  {
   "cell_type": "code",
   "execution_count": 141,
   "metadata": {
    "collapsed": true
   },
   "outputs": [],
   "source": [
    "def trainModel():\n",
    "    ## extract features\n",
    "    trainer = crf.Trainer(verbose=False)\n",
    "    trainer.append(trainX, trainY)\n",
    "#     trainer.set_params({\n",
    "#         'c1': 0.0,   # coefficient for L1 penalty\n",
    "#         'c2': 1e-3,  # coefficient for L2 penalty\n",
    "\n",
    "#         # include transitions that are possible, but not observed\n",
    "#         'feature.possible_transitions': True\n",
    "#     })\n",
    "    trainer.train(trained_model)"
   ]
  },
  {
   "cell_type": "code",
   "execution_count": 156,
   "metadata": {
    "collapsed": true
   },
   "outputs": [],
   "source": [
    "def predict():\n",
    "    print \"PREDICT\"\n",
    "    testXMatrix, testYInts =  train.get_feature_matrix_n(previous_n,next_n,test_data, num_words, word_vocab, helper.other_features)\n",
    "    testX = testXMatrix.toarray()\n",
    "    testY = [train.int2tags[ int(y) ] for y in testYInts]\n",
    "    \n",
    "    tagger = crf.Tagger()\n",
    "    tagger.open(trained_model)\n",
    "    \n",
    "    predictedY = tagger.tag(testX)\n",
    "    confidences = [tagger.marginal(predictedY[i],i) for i in range(len(predictedY))]\n",
    "    confidences_beam = [ [tagger.marginal(tag, i)  for tag in train.int2tags]   for i in range(len(predictedY))]\n",
    "    \n",
    "    accuracy = sum([testY[i]==predictedY[i] for i in range(len(testY))]) * 1.0 / len(testY)\n",
    "    print \"OVERALL ACCURACY\", accuracy\n",
    "    \n",
    "    for tag in train.int2tags:\n",
    "        predicted_correct = sum( [predictedY[i] == tag and testY[i] == tag for i in range(len(testY))] )\n",
    "        total_of_tag      = sum( [testY[i] == tag for i in range(len(testY))] )\n",
    "        \n",
    "        print \"ACCURACY FOR \", tag, \"IS \", predicted_correct * 1. / total_of_tag\n",
    "    return predictedY, testY, confidences, confidences_beam, tagger.info()"
   ]
  },
  {
   "cell_type": "code",
   "execution_count": null,
   "metadata": {
    "collapsed": false
   },
   "outputs": [],
   "source": []
  },
  {
   "cell_type": "code",
   "execution_count": null,
   "metadata": {
    "collapsed": false
   },
   "outputs": [],
   "source": []
  },
  {
   "cell_type": "code",
   "execution_count": null,
   "metadata": {
    "collapsed": false
   },
   "outputs": [],
   "source": []
  },
  {
   "cell_type": "code",
   "execution_count": null,
   "metadata": {
    "collapsed": true
   },
   "outputs": [],
   "source": []
  }
 ],
 "metadata": {
  "kernelspec": {
   "display_name": "Python 2",
   "language": "python",
   "name": "python2"
  },
  "language_info": {
   "codemirror_mode": {
    "name": "ipython",
    "version": 2
   },
   "file_extension": ".py",
   "mimetype": "text/x-python",
   "name": "python",
   "nbconvert_exporter": "python",
   "pygments_lexer": "ipython2",
   "version": "2.7.11"
  }
 },
 "nbformat": 4,
 "nbformat_minor": 0
}
